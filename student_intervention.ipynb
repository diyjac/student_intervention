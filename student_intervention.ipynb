{
 "cells": [
  {
   "cell_type": "markdown",
   "metadata": {},
   "source": [
    "# Machine Learning Engineer Nanodegree\n",
    "## Supervised Learning\n",
    "## Project 2: Building a Student Intervention System"
   ]
  },
  {
   "cell_type": "markdown",
   "metadata": {},
   "source": [
    "Welcome to the second project of the Machine Learning Engineer Nanodegree! In this notebook, some template code has already been provided for you, and it will be your job to implement the additional functionality necessary to successfully complete this project. Sections that begin with **'Implementation'** in the header indicate that the following block of code will require additional functionality which you must provide. Instructions will be provided for each section and the specifics of the implementation are marked in the code block with a `'TODO'` statement. Please be sure to read the instructions carefully!\n",
    "\n",
    "In addition to implementing code, there will be questions that you must answer which relate to the project and your implementation. Each section where you will answer a question is preceded by a **'Question X'** header. Carefully read each question and provide thorough answers in the following text boxes that begin with **'Answer:'**. Your project submission will be evaluated based on your answers to each of the questions and the implementation you provide.  \n",
    "\n",
    ">**Note:** Code and Markdown cells can be executed using the **Shift + Enter** keyboard shortcut. In addition, Markdown cells can be edited by typically double-clicking the cell to enter edit mode."
   ]
  },
  {
   "cell_type": "markdown",
   "metadata": {},
   "source": [
    "### Question 1 - Classification vs. Regression\n",
    "*Your goal for this project is to identify students who might need early intervention before they fail to graduate. Which type of supervised learning problem is this, classification or regression? Why?*"
   ]
  },
  {
   "cell_type": "markdown",
   "metadata": {},
   "source": [
    "**Answer: ** The goal of this project is to identify students who might need early intervention, so we are trying to find a **decision boundary** where to split the students that will fail versus students that will pass to graduate.  The output of this project is **discrete**:  **(class labels)**.  Either the student needs early intervention or not: a **boolean** that is linked a predicted label of **fail** to graduate.  A **regression** supervised learning problem involves continuous outputs: **(numbers)** and we are trying to find a **\"best fit line\"**, which does not fit the goal of this project.  This is a **classification** supervised learning problem because the output is a **boolean class label (yes|no)**.  Either the student is identified as might needing early intervention or not based on their predicted **fail** class label."
   ]
  },
  {
   "cell_type": "markdown",
   "metadata": {},
   "source": [
    "## Exploring the Data\n",
    "Run the code cell below to load necessary Python libraries and load the student data. Note that the last column from this dataset, `'passed'`, will be our target label (whether the student graduated or didn't graduate). All other columns are features about each student."
   ]
  },
  {
   "cell_type": "code",
   "execution_count": 2,
   "metadata": {
    "collapsed": false
   },
   "outputs": [
    {
     "name": "stdout",
     "output_type": "stream",
     "text": [
      "Student data read successfully!\n"
     ]
    }
   ],
   "source": [
    "# Import libraries\n",
    "import numpy as np\n",
    "import pandas as pd\n",
    "from time import time\n",
    "from sklearn.metrics import f1_score\n",
    "\n",
    "# Read student data\n",
    "student_data = pd.read_csv(\"student-data.csv\")\n",
    "print \"Student data read successfully!\""
   ]
  },
  {
   "cell_type": "markdown",
   "metadata": {},
   "source": [
    "### Implementation: Data Exploration\n",
    "Let's begin by investigating the dataset to determine how many students we have information on, and learn about the graduation rate among these students. In the code cell below, you will need to compute the following:\n",
    "- The total number of students, `n_students`.\n",
    "- The total number of features for each student, `n_features`.\n",
    "- The number of those students who passed, `n_passed`.\n",
    "- The number of those students who failed, `n_failed`.\n",
    "- The graduation rate of the class, `grad_rate`, in percent (%).\n"
   ]
  },
  {
   "cell_type": "code",
   "execution_count": 34,
   "metadata": {
    "collapsed": false,
    "scrolled": true
   },
   "outputs": [
    {
     "name": "stdout",
     "output_type": "stream",
     "text": [
      "Total number of students: 395\n",
      "Number of features: 30\n",
      "Number of students who passed: 265\n",
      "Number of students who failed: 130\n",
      "Graduation rate of the class: 67.09%\n"
     ]
    }
   ],
   "source": [
    "# TODO: Calculate number of students\n",
    "n_students = len(student_data.index)\n",
    "\n",
    "# TODO: Calculate number of features\n",
    "# Ignoring \"passed\" as a feature, since this will be the target variable.\n",
    "n_features = len(student_data.columns)-1\n",
    "\n",
    "# TODO: Calculate passing students\n",
    "n_passed = len(student_data[(student_data.passed == 'yes')])\n",
    "\n",
    "# TODO: Calculate failing students\n",
    "n_failed = len(student_data[(student_data.passed == 'no')])\n",
    "\n",
    "# TODO: Calculate graduation rate\n",
    "grad_rate = float(n_passed)/float(n_students)*100.0\n",
    "\n",
    "# Print the results\n",
    "print \"Total number of students: {}\".format(n_students)\n",
    "print \"Number of features: {}\".format(n_features)\n",
    "print \"Number of students who passed: {}\".format(n_passed)\n",
    "print \"Number of students who failed: {}\".format(n_failed)\n",
    "print \"Graduation rate of the class: {:.2f}%\".format(grad_rate)\n"
   ]
  },
  {
   "cell_type": "markdown",
   "metadata": {},
   "source": [
    "## Preparing the Data\n",
    "In this section, we will prepare the data for modeling, training and testing.\n",
    "\n",
    "### Identify feature and target columns\n",
    "It is often the case that the data you obtain contains non-numeric features. This can be a problem, as most machine learning algorithms expect numeric data to perform computations with.\n",
    "\n",
    "Run the code cell below to separate the student data into feature and target columns to see if any features are non-numeric."
   ]
  },
  {
   "cell_type": "code",
   "execution_count": 35,
   "metadata": {
    "collapsed": false
   },
   "outputs": [
    {
     "name": "stdout",
     "output_type": "stream",
     "text": [
      "Feature columns:\n",
      "['school', 'sex', 'age', 'address', 'famsize', 'Pstatus', 'Medu', 'Fedu', 'Mjob', 'Fjob', 'reason', 'guardian', 'traveltime', 'studytime', 'failures', 'schoolsup', 'famsup', 'paid', 'activities', 'nursery', 'higher', 'internet', 'romantic', 'famrel', 'freetime', 'goout', 'Dalc', 'Walc', 'health', 'absences']\n",
      "\n",
      "Target column: passed\n",
      "\n",
      "Feature values:\n",
      "  school sex  age address famsize Pstatus  Medu  Fedu     Mjob      Fjob  \\\n",
      "0     GP   F   18       U     GT3       A     4     4  at_home   teacher   \n",
      "1     GP   F   17       U     GT3       T     1     1  at_home     other   \n",
      "2     GP   F   15       U     LE3       T     1     1  at_home     other   \n",
      "3     GP   F   15       U     GT3       T     4     2   health  services   \n",
      "4     GP   F   16       U     GT3       T     3     3    other     other   \n",
      "\n",
      "    ...    higher internet  romantic  famrel  freetime goout Dalc Walc health  \\\n",
      "0   ...       yes       no        no       4         3     4    1    1      3   \n",
      "1   ...       yes      yes        no       5         3     3    1    1      3   \n",
      "2   ...       yes      yes        no       4         3     2    2    3      3   \n",
      "3   ...       yes      yes       yes       3         2     2    1    1      5   \n",
      "4   ...       yes       no        no       4         3     2    1    2      5   \n",
      "\n",
      "  absences  \n",
      "0        6  \n",
      "1        4  \n",
      "2       10  \n",
      "3        2  \n",
      "4        4  \n",
      "\n",
      "[5 rows x 30 columns]\n"
     ]
    }
   ],
   "source": [
    "# Extract feature columns\n",
    "feature_cols = list(student_data.columns[:-1])\n",
    "\n",
    "# Extract target column 'passed'\n",
    "target_col = student_data.columns[-1] \n",
    "\n",
    "# Show the list of columns\n",
    "print \"Feature columns:\\n{}\".format(feature_cols)\n",
    "print \"\\nTarget column: {}\".format(target_col)\n",
    "\n",
    "# Separate the data into feature data and target data (X_all and y_all, respectively)\n",
    "X_all = student_data[feature_cols]\n",
    "y_all = student_data[target_col]\n",
    "\n",
    "# Show the feature information by printing the first five rows\n",
    "print \"\\nFeature values:\"\n",
    "print X_all.head()\n"
   ]
  },
  {
   "cell_type": "markdown",
   "metadata": {},
   "source": [
    "### Preprocess Feature Columns\n",
    "\n",
    "As you can see, there are several non-numeric columns that need to be converted! Many of them are simply `yes`/`no`, e.g. `internet`. These can be reasonably converted into `1`/`0` (binary) values.\n",
    "\n",
    "Other columns, like `Mjob` and `Fjob`, have more than two values, and are known as _categorical variables_. The recommended way to handle such a column is to create as many columns as possible values (e.g. `Fjob_teacher`, `Fjob_other`, `Fjob_services`, etc.), and assign a `1` to one of them and `0` to all others.\n",
    "\n",
    "These generated columns are sometimes called _dummy variables_, and we will use the [`pandas.get_dummies()`](http://pandas.pydata.org/pandas-docs/stable/generated/pandas.get_dummies.html?highlight=get_dummies#pandas.get_dummies) function to perform this transformation. Run the code cell below to perform the preprocessing routine discussed in this section."
   ]
  },
  {
   "cell_type": "code",
   "execution_count": 36,
   "metadata": {
    "collapsed": false
   },
   "outputs": [
    {
     "name": "stdout",
     "output_type": "stream",
     "text": [
      "Processed feature columns (48 total features):\n",
      "['school_GP', 'school_MS', 'sex_F', 'sex_M', 'age', 'address_R', 'address_U', 'famsize_GT3', 'famsize_LE3', 'Pstatus_A', 'Pstatus_T', 'Medu', 'Fedu', 'Mjob_at_home', 'Mjob_health', 'Mjob_other', 'Mjob_services', 'Mjob_teacher', 'Fjob_at_home', 'Fjob_health', 'Fjob_other', 'Fjob_services', 'Fjob_teacher', 'reason_course', 'reason_home', 'reason_other', 'reason_reputation', 'guardian_father', 'guardian_mother', 'guardian_other', 'traveltime', 'studytime', 'failures', 'schoolsup', 'famsup', 'paid', 'activities', 'nursery', 'higher', 'internet', 'romantic', 'famrel', 'freetime', 'goout', 'Dalc', 'Walc', 'health', 'absences']\n"
     ]
    }
   ],
   "source": [
    "def preprocess_features(X):\n",
    "    ''' Preprocesses the student data and converts non-numeric binary variables into\n",
    "        binary (0/1) variables. Converts categorical variables into dummy variables. '''\n",
    "    \n",
    "    # Initialize new output DataFrame\n",
    "    output = pd.DataFrame(index = X.index)\n",
    "\n",
    "    # Investigate each feature column for the data\n",
    "    for col, col_data in X.iteritems():\n",
    "        \n",
    "        # If data type is non-numeric, replace all yes/no values with 1/0\n",
    "        if col_data.dtype == object:\n",
    "            col_data = col_data.replace(['yes', 'no'], [1, 0])\n",
    "\n",
    "        # If data type is categorical, convert to dummy variables\n",
    "        if col_data.dtype == object:\n",
    "            # Example: 'school' => 'school_GP' and 'school_MS'\n",
    "            col_data = pd.get_dummies(col_data, prefix = col)  \n",
    "        \n",
    "        # Collect the revised columns\n",
    "        output = output.join(col_data)\n",
    "    \n",
    "    return output\n",
    "\n",
    "X_all = preprocess_features(X_all)\n",
    "print \"Processed feature columns ({} total features):\\n{}\".format(len(X_all.columns), list(X_all.columns))"
   ]
  },
  {
   "cell_type": "markdown",
   "metadata": {},
   "source": [
    "### Implementation: Training and Testing Data Split\n",
    "So far, we have converted all _categorical_ features into numeric values. For the next step, we split the data (both features and corresponding labels) into training and test sets. In the following code cell below, you will need to implement the following:\n",
    "- Randomly shuffle and split the data (`X_all`, `y_all`) into training and testing subsets.\n",
    "  - Use 300 training points (approximately 75%) and 95 testing points (approximately 25%).\n",
    "  - Set a `random_state` for the function(s) you use, if provided.\n",
    "  - Store the results in `X_train`, `X_test`, `y_train`, and `y_test`."
   ]
  },
  {
   "cell_type": "code",
   "execution_count": 44,
   "metadata": {
    "collapsed": false
   },
   "outputs": [
    {
     "name": "stdout",
     "output_type": "stream",
     "text": [
      "Training set has 300 samples.\n",
      "Testing set has 95 samples.\n"
     ]
    }
   ],
   "source": [
    "# TODO: Import any additional functionality you may need here\n",
    "from sklearn.cross_validation import train_test_split\n",
    "\n",
    "# TODO: Set the number of training points\n",
    "num_train = 300\n",
    "\n",
    "# Set the number of testing points\n",
    "num_test = X_all.shape[0] - num_train\n",
    "\n",
    "# TODO: Shuffle and split the dataset into the number of training and testing points above\n",
    "X_train, X_test, y_train, y_test = train_test_split(X_all, y_all, test_size=num_test, train_size=num_train, random_state=0)\n",
    "\n",
    "# Show the results of the split\n",
    "print \"Training set has {} samples.\".format(X_train.shape[0])\n",
    "print \"Testing set has {} samples.\".format(X_test.shape[0])"
   ]
  },
  {
   "cell_type": "markdown",
   "metadata": {},
   "source": [
    "## Training and Evaluating Models\n",
    "In this section, you will choose 3 supervised learning models that are appropriate for this problem and available in `scikit-learn`. You will first discuss the reasoning behind choosing these three models by considering what you know about the data and each model's strengths and weaknesses. You will then fit the model to varying sizes of training data (100 data points, 200 data points, and 300 data points) and measure the F<sub>1</sub> score. You will need to produce three tables (one for each model) that shows the training set size, training time, prediction time, F<sub>1</sub> score on the training set, and F<sub>1</sub> score on the testing set.\n",
    "\n",
    "**The following supervised learning models are currently available in** [`scikit-learn`](http://scikit-learn.org/stable/supervised_learning.html) **that you may choose from:**\n",
    "- Gaussian Naive Bayes (GaussianNB)\n",
    "- Decision Trees\n",
    "- Ensemble Methods (Bagging, AdaBoost, Random Forest, Gradient Boosting)\n",
    "- K-Nearest Neighbors (KNeighbors)\n",
    "- Stochastic Gradient Descent (SGDC)\n",
    "- Support Vector Machines (SVM)\n",
    "- Logistic Regression"
   ]
  },
  {
   "cell_type": "markdown",
   "metadata": {},
   "source": [
    "### Question 2 - Model Application\n",
    "*List three supervised learning models that are appropriate for this problem. For each model chosen*\n",
    "- Describe one real-world application in industry where the model can be applied. *(You may need to do a small bit of research for this — give references!)* \n",
    "- What are the strengths of the model; when does it perform well? \n",
    "- What are the weaknesses of the model; when does it perform poorly?\n",
    "- What makes this model a good candidate for the problem, given what you know about the data?"
   ]
  },
  {
   "cell_type": "markdown",
   "metadata": {},
   "source": [
    "**Answer: **\n",
    "\n",
    "#### Learning Model Selection Method:\n",
    "We know from *Minimum Description Length* in *Bayesian Methods: Bayesian Learning* and *Preference Bias* in *Artificial Neural Networks: Neural Networks* sections that in general the best supervised learning model has a minimum description length, or a preference bias for the least steps to get to the correct answer: the *Occam's Razor* principle.  This means that we should not unneccessarily choose a more complex model when a simpler model give us the same accuracy.\n",
    "\n",
    "Following this principle, e.g.: the simplest model is the best, and we should only add additional features, learning models, etc. (complexity) only to gain required additional accuracy, I recommend we start with **Decision Tree Classifier**, and then use **Support Vector Machines Classifier (SVC)**, or **Ensemble Methods: Random Forest Classifier (RandomForestClassifier)** learning models only if the required accuracy justify the additional computational cost.\n",
    "\n",
    "##### Decision Tree Classifier:\n",
    "This learning model uses a tree structure to represent decision boundaries, where a series of questions are asked until a final descrete output answer is obtained.  To help narrow the search space for a what a *good question* to ask near the top of the tree to provide a good split of the decision boundaries, the concept of entropy is introduced.  Entropy is a measure of impurities in a bunch of examples where 0.0 entropy means that all of the samples belongs to one class, and 1.0 means maximum entropy and that the dataset can be evenly split between classes.  The **Decision Tree Classifier's** goal is to be able to find all of the features in the dataset that will produce maximum entropies to produce *good* splits near the top.  The mathematical formular for entropy is:\n",
    "\n",
    "$$Entropy=\\sum_{i} -p_{i} log_{2}( p_{i} )$$\n",
    "\n",
    "Where p<sub>i</sub> is the fraction of examples in class<sub>i</sub>.  In addition, there is the concept of *Information Gain*, which is given by the formular:\n",
    "\n",
    "$$Information\\: Gain = Entropy(parent) - \\Bigg[ \\begin{align*} weighted\\\\\n",
    "average\n",
    "\\end{align*} \\Bigg] Entropy(children)$$\n",
    "\n",
    "The *Decision Tree* algorithm is to maximize *Information Gain* at each split.\n",
    "\n",
    "There is an ID3 algorithm that builds the decision tree structure from splitting on the given training dataset maximizing on *Information Gain*.  Afterwards, the training dataset is no longer needed, and the decision tree representation is used instead to predict the target concept, which, in this case, if a student may fail graduation and need early intervention.  A decision tree representation is made up of three components:\n",
    "\n",
    "<img src=\"https://upload.wikimedia.org/wikipedia/commons/f/f3/CART_tree_titanic_survivors.png\" title=\"A Decision Tree showing survival of passengers on the Titanic, CC BY-SA 3.0 by Stephen Milborrow\">\n",
    "\n",
    "- `Decision Nodes:` Where a feature, feature range or a feature vector is selected from the dataset and a question is asked.  This is represented as **`questions..?`** in the diagram above.  The answer values to the question are what the edges (branches) represent in the tree.  The `Decision Tree` starts at the `Root Decision Node`, where hopefully we start with good splits at the top.\n",
    "- `Edges|Branches:` The descrete value of a feature, feature range or feature vector, represented by encircled values and line segments from a `Decision Node` in the diagram above (e.g.: `yes` or `no`).  `Edges|Branches` connect to childen `Decision Nodes` that picks another feature, feature range or feature vector and ask another question to generate additional `Edges|Branches` below them.  Eventually, the `Edges|Branches` will terminate on `Leafs Nodes`.\n",
    "- `Leafs Nodes:` These are the final descrete outputs after a series of specific questions and answers paths are traverse.  They are also represented as red or green encircled values in the diagram above.\n",
    "\n",
    "Some real-world applications for this learning model includes: \n",
    "- Predicting Library Book Use\n",
    "- Exploring the Relationship Between the Research Octane Number and Molecular Substructures\n",
    "- Characterization of Leiomyomatious Tumors\n",
    "- Star/Cosmic-Ray Classification in Hubble Space Telescope Images.\n",
    "\n",
    "Excerpts from: http://booksite.elsevier.com/9780124438804/leondes_expert_vol1_ch3.pdf, section IX. Practical Applications.\n",
    "\n",
    "The strengths of the Decision Trees model are:\n",
    "- Best used for classifications.\n",
    "- Can handle descrete inputs.\n",
    "- Can handle continuous inputs using ranges as decision boundaries.\n",
    "- Uses Information Gain formular to decise how to split the decision boundary in the dataset.\n",
    "- Very easy to understand.  A whitebox model.\n",
    "\n",
    "Their limits are:\n",
    "- Performs poorly if ID3 algorithm cannot find a good split near the top.\n",
    "- Possible exponential node growth as more features are added (n!).\n",
    "- Possible exponential leaf growth as more nodes are generated (n<sup>2</sup>).\n",
    "- Prone to overfit when max_depth is set too high.\n",
    "- ID3 algorithm will continue until all outputs are decided in the training unless we prune.\n",
    "\n",
    "This learning model follows **Occam's Razor**, it is simple, as long as the Student dataset has a well defined decision boundary that can be split near the top of the decision tree.  While there are many features to evaluate for good splits at the top, the dataset is not large, so training and testing time should be minimal.  We may require to tune the **Decision Tree Classifier** learning model so that overfitting does not lower its prediction accuracy as we add additional training data or features.  Once the decision tree is contructed and optimized, the computational query time should also be minimal.\n",
    "\n",
    "##### Support Vector Machines Classifier (SVC):\n",
    "This learning model seeks to find optimal separators in the datasets such that the boundary separating the two sub-datasets is maximized.  This boundary or linear separator is also known as the *margin* and the maximum margin between the separation can be found using *Quadratic Programs*.  It was found that the *Quadratic Programs* used certain input data points within the dataset near the data separations to find the maximum margins as denoted by 2/||w|| in the diagram below.  These data points were called *Support Vectors*; and thus, the model is now known as a **Support Vector Machine (SVM) Classifier (SVC)** because the learning model finds the *Support Vectors* to build the maximum margin separator.\n",
    "\n",
    "<img src=\"https://upload.wikimedia.org/wikipedia/commons/2/2a/Svm_max_sep_hyperplane_with_margin.png\" title=\"Maximum-margin hyperplane and margins for an SVM trained with samples from two classes. Samples on the margin are called the support vectors., ~CC~: Public Domain by Cyc\" width=\"300\" height=\"300\">\n",
    "\n",
    "This learning model is considered to be an **eager lazy learner**, or only as lazy as necessary to represent what is needed, and the rest of the data that is not *Support Vectors* in the dataset are ignored as can be seen in the diagram above as not all points are involved in defining the maximum margin separator.\n",
    "\n",
    "<img src=\"https://upload.wikimedia.org/wikipedia/commons/f/fe/Kernel_Machine.svg\" title=\"Kernel machines are used to compute a non-linearly separable functions into a higher dimension linearly separable function, CC BY-SA 4.0 by User:Zirguezi\", width=\"600\" height=\"300\">\n",
    "\n",
    "An interesting feature of the SVM is that we can use a higher order function in the matrix dot products that compute the *Quadratic Programs* to *project* a non-linear separation into a hyperplane that is linearly separable by the SVM.  This is known as the **Kernel Trick** and the *Kernel Function* is usually shown as *K(x,y)*, but as *ø* in the diagram above.  The sets of equations that makes up the *K(x,y)* turns out to be a either a *similarity, or distance function* that represents all of our domain knowledge of the dataset that should losely satisfy what is known as the *Mercer Condition*.\n",
    "\n",
    "Some real-world applicaton for this learning model includes:\n",
    "- Dynamic Reconstruction of Chaotic Systems from Inter-spike Intervals Using Least Squares Support Vector Machines\n",
    "- Application of The Kernel Method to the Inverse Geosounding Problem\n",
    "- Support Vector Machines Based Modeling of Seismic Liquefaction Potential\n",
    "- SVM for Geo- and Environmental Sciences\n",
    "- SVM for Protein Fold and Remote Homology Detection\n",
    "- Content based image retrieval\n",
    "- DATA Classification using SSVM\n",
    "- DTREG SVM and decision tree modeling\n",
    "\n",
    "Excerpts from: http://www.clopinet.com/SVM.applications.html, SVM Applications List.\n",
    "\n",
    "The strengths of the Support Vector Machine model are:\n",
    "- Use of maximum margin supports generalization and reduce overfitting.\n",
    "- Can handle data with well behaved linear separations.\n",
    "- Can handle data with non-linear separations using **Kernel Trick**.\n",
    "\n",
    "Their limits are:\n",
    "- SVM accuracy depends on the selection of the *K(x,y)* kernel function.  In order words, can we model the dataset to find a *K(x,y)* kernel function to linearly separate the dataset well?\n",
    "- The internals of the SVM is a blackbox and we may not understand any internal prepresentations of the modeled solution well.\n",
    "\n",
    "This learning model is a more complex model than the *Decision Tree Classifer*.  Its usefulness is that in case the dataset is not readily predictable by the *Decision Tree Classifier*, the **Support Vector Machine Classifier** will have a better chance at predicting students *pass|fail* if the input data is not linearly separatable.  We are hopeful this will not be the case; however, having this learning model as a possible fallback option is desirable.\n",
    "\n",
    "##### Ensemble Methods: Random Forest Classifier (RandomForestClassifier):\n",
    "This learning model seeks to construct and combine multiple *Decision Trees Classifiers* as *weak learners* using *random* splits, as apposed to *best* fit, at training time to hopefully better fit the data and reduce overfitting.  In addition, the learning algorthm has been modified to pick a random subset of features at each split so that each random tree could decrease overfitting by decreasing the component tree variance overall when the trees outputs are merged, see diagram below.  Its representation, training and prediction methods are the same as that of the *Decision Tree Classifier* as shown above in the **Decision Tree Classifier** section, but there are multiple of them, and their splits at the top may not be *good* since the feature they split on is set to *random* instead of *best*.  Once their feature has been selected, they then find a valiable or value that optimally splits the subset and continue with the random splits further down the tree.  Their outputs are combined by using either mean/average voting or a weighted voting algorthms.\n",
    "\n",
    "<img src=\"https://citizennet.com/blog/wp-content/uploads/2012/11/RF.jpg\" title=\"Random Forest: Using random subset feature splits, Copyright, November 10, 2012 by Dan Benyamin\", width=\"600\" height=\"400\">\n",
    "\n",
    "Some real-world applications for this learning model includes: \n",
    "- Oblique Random Forests for 3-D Vessel Detection Using Steerable Filters and Orthogonal Subspace Filtering\n",
    "- Using Conditional Inference Trees and Random Forests to Predict the bioaccumulation Potential of Organic Chemicals\n",
    "- Food-101: Mining Discriminative Components with Random Forests\n",
    "- Random Forest Segregation of Drug Responses May Define Regions of Biological Significance\n",
    "- Random Forests for Real Time 3D Face Analysis\n",
    "\n",
    "Excerpts from: http://e-citations.ethbib.ethz.ch/list/?cat=quick_filter&sort_by=score&key-1=T_Keywords&w1=Random+forest.\n",
    "\n",
    "The strengths of the Random Forest model are:\n",
    "- Best used for classifications.\n",
    "- Can handle descrete inputs.\n",
    "- Can handle continuous inputs using ranges as decision boundaries.\n",
    "- Selects random subset of features at each split.  The idea is that strong features will naturally be selected by multiple trees, causing them to become dominent when the trees are merged.\n",
    "- Very easy to understand.  A whitebox model.\n",
    "\n",
    "Their limits are:\n",
    "- Performs poorly since multiple Decision Trees are randomly picked and generated.\n",
    "- Possible exponential node growth as more features are added (n!).\n",
    "- Possible exponential leaf growth as more nodes are generated (n<sup>2</sup>).\n",
    "- Prone to overfit when max_depth is set too high.\n",
    "- ID3 algorithm will continue until all outputs are decided in the training unless we prune.\n",
    "- Multiple trees in the random forest will increase computational resources and time for both training and prediction.\n",
    "\n",
    "This learning model is part of the *Ensemble Learning Methods*, which seeks to implement complex learning, by combining simple learning components, and in this case, using the *Decision Tree Classifiers*.  So, instead of using the *best* split possible near the top, it seeks to instead generate multiple random trees with random subset-feature splits, so as to not need to find the *best* split which may not be found by a direct algorthm or may require a horendous training time.  By using this method, this learning algorthm hopes that the randomness of the trees structure will naturally model the underlying dataset and produce the desired predictions more accurately once the component trees in the random forest are merge to a single output classifier.  However, since we are now dealing with multiple trees in the random forest, performance will suffer.\n"
   ]
  },
  {
   "cell_type": "markdown",
   "metadata": {},
   "source": [
    "### Setup\n",
    "Run the code cell below to initialize three helper functions which you can use for training and testing the three supervised learning models you've chosen above. The functions are as follows:\n",
    "- `train_classifier` - takes as input a classifier and training data and fits the classifier to the data.\n",
    "- `predict_labels` - takes as input a fit classifier, features, and a target labeling and makes predictions using the F<sub>1</sub> score.\n",
    "- `train_predict` - takes as input a classifier, and the training and testing data, and performs `train_clasifier` and `predict_labels`.\n",
    " - This function will report the F<sub>1</sub> score for both the training and testing data separately."
   ]
  },
  {
   "cell_type": "code",
   "execution_count": 45,
   "metadata": {
    "collapsed": false
   },
   "outputs": [],
   "source": [
    "def train_classifier(clf, X_train, y_train):\n",
    "    ''' Fits a classifier to the training data. '''\n",
    "    \n",
    "    # Start the clock, train the classifier, then stop the clock\n",
    "    start = time()\n",
    "    clf.fit(X_train, y_train)\n",
    "    end = time()\n",
    "    \n",
    "    # Print the results\n",
    "    print \"Trained model in {:.4f} seconds\".format(end - start)\n",
    "\n",
    "    \n",
    "def predict_labels(clf, features, target):\n",
    "    ''' Makes predictions using a fit classifier based on F1 score. '''\n",
    "    \n",
    "    # Start the clock, make predictions, then stop the clock\n",
    "    start = time()\n",
    "    y_pred = clf.predict(features)\n",
    "    end = time()\n",
    "    \n",
    "    # Print and return results\n",
    "    print \"Made predictions in {:.4f} seconds.\".format(end - start)\n",
    "    return f1_score(target.values, y_pred, pos_label='yes')\n",
    "\n",
    "\n",
    "def train_predict(clf, X_train, y_train, X_test, y_test):\n",
    "    ''' Train and predict using a classifer based on F1 score. '''\n",
    "    \n",
    "    # Indicate the classifier and the training set size\n",
    "    print \"Training a {} using a training set size of {}. . .\".format(clf.__class__.__name__, len(X_train))\n",
    "    \n",
    "    # Train the classifier\n",
    "    train_classifier(clf, X_train, y_train)\n",
    "    \n",
    "    # Print the results of prediction for both training and testing\n",
    "    print \"F1 score for training set: {:.4f}.\".format(predict_labels(clf, X_train, y_train))\n",
    "    print \"F1 score for test set: {:.4f}.\".format(predict_labels(clf, X_test, y_test))"
   ]
  },
  {
   "cell_type": "markdown",
   "metadata": {},
   "source": [
    "### Implementation: Model Performance Metrics\n",
    "With the predefined functions above, you will now import the three supervised learning models of your choice and run the `train_predict` function for each one. Remember that you will need to train and predict on each classifier for three different training set sizes: 100, 200, and 300. Hence, you should expect to have 9 different outputs below — 3 for each model using the varying training set sizes. In the following code cell, you will need to implement the following:\n",
    "- Import the three supervised learning models you've discussed in the previous section.\n",
    "- Initialize the three models and store them in `clf_A`, `clf_B`, and `clf_C`.\n",
    " - Use a `random_state` for each model you use, if provided.\n",
    " - **Note:** Use the default settings for each model — you will tune one specific model in a later section.\n",
    "- Create the different training set sizes to be used to train each model.\n",
    " - *Do not reshuffle and resplit the data! The new training points should be drawn from `X_train` and `y_train`.*\n",
    "- Fit each model with each training set size and make predictions on the test set (9 in total).  \n",
    "**Note:** Three tables are provided after the following code cell which can be used to store your results."
   ]
  },
  {
   "cell_type": "code",
   "execution_count": 52,
   "metadata": {
    "collapsed": false
   },
   "outputs": [
    {
     "name": "stdout",
     "output_type": "stream",
     "text": [
      "Training a DecisionTreeClassifier using a training set size of 100. . .\n",
      "Trained model in 0.0013 seconds\n",
      "Made predictions in 0.0010 seconds.\n",
      "F1 score for training set: 1.0000.\n",
      "Made predictions in 0.0006 seconds.\n",
      "F1 score for test set: 0.6942.\n",
      "\n",
      "\n",
      "Training a DecisionTreeClassifier using a training set size of 200. . .\n",
      "Trained model in 0.0025 seconds\n",
      "Made predictions in 0.0003 seconds.\n",
      "F1 score for training set: 1.0000.\n",
      "Made predictions in 0.0007 seconds.\n",
      "F1 score for test set: 0.7132.\n",
      "\n",
      "\n",
      "Training a DecisionTreeClassifier using a training set size of 300. . .\n",
      "Trained model in 0.0040 seconds\n",
      "Made predictions in 0.0004 seconds.\n",
      "F1 score for training set: 1.0000.\n",
      "Made predictions in 0.0003 seconds.\n",
      "F1 score for test set: 0.7167.\n",
      "\n",
      "\n",
      "Training a SVC using a training set size of 100. . .\n",
      "Trained model in 0.0024 seconds\n",
      "Made predictions in 0.0021 seconds.\n",
      "F1 score for training set: 0.8591.\n",
      "Made predictions in 0.0016 seconds.\n",
      "F1 score for test set: 0.7838.\n",
      "\n",
      "\n",
      "Training a SVC using a training set size of 200. . .\n",
      "Trained model in 0.0070 seconds\n",
      "Made predictions in 0.0052 seconds.\n",
      "F1 score for training set: 0.8693.\n",
      "Made predictions in 0.0030 seconds.\n",
      "F1 score for test set: 0.7755.\n",
      "\n",
      "\n",
      "Training a SVC using a training set size of 300. . .\n",
      "Trained model in 0.0151 seconds\n",
      "Made predictions in 0.0110 seconds.\n",
      "F1 score for training set: 0.8692.\n",
      "Made predictions in 0.0035 seconds.\n",
      "F1 score for test set: 0.7586.\n",
      "\n",
      "\n",
      "Training a RandomForestClassifier using a training set size of 100. . .\n",
      "Trained model in 0.0685 seconds\n",
      "Made predictions in 0.0103 seconds.\n",
      "F1 score for training set: 0.9764.\n",
      "Made predictions in 0.0103 seconds.\n",
      "F1 score for test set: 0.7031.\n",
      "\n",
      "\n",
      "Training a RandomForestClassifier using a training set size of 200. . .\n",
      "Trained model in 0.0893 seconds\n",
      "Made predictions in 0.0115 seconds.\n",
      "F1 score for training set: 0.9925.\n",
      "Made predictions in 0.0104 seconds.\n",
      "F1 score for test set: 0.6829.\n",
      "\n",
      "\n",
      "Training a RandomForestClassifier using a training set size of 300. . .\n",
      "Trained model in 0.0750 seconds\n",
      "Made predictions in 0.0122 seconds.\n",
      "F1 score for training set: 0.9903.\n",
      "Made predictions in 0.0111 seconds.\n",
      "F1 score for test set: 0.7852.\n",
      "\n",
      "\n"
     ]
    }
   ],
   "source": [
    "# TODO: Import the three supervised learning models from sklearn\n",
    "from sklearn.tree import DecisionTreeClassifier\n",
    "from sklearn.svm import SVC\n",
    "from sklearn.ensemble import RandomForestClassifier\n",
    "\n",
    "# TODO: Initialize the three models\n",
    "clf_A = DecisionTreeClassifier(random_state=0)\n",
    "clf_B = SVC(random_state=1)\n",
    "clf_C = RandomForestClassifier(random_state=2)\n",
    "\n",
    "# TODO: Set up the training set sizes\n",
    "# Done in loop\n",
    "\n",
    "# TODO: Execute the 'train_predict' function for each classifier and each training set size\n",
    "# train_predict(clf, X_train, y_train, X_test, y_test)\n",
    "for clf in [clf_A, clf_B, clf_C]:\n",
    "    for size in [100, 200, 300]:\n",
    "        train_predict(clf, X_train[:size], y_train[:size], X_test, y_test)\n",
    "        print '\\n'\n"
   ]
  },
  {
   "cell_type": "markdown",
   "metadata": {},
   "source": [
    "### Tabular Results\n",
    "Edit the cell below to see how a table can be designed in [Markdown](https://github.com/adam-p/markdown-here/wiki/Markdown-Cheatsheet#tables). You can record your results from above in the tables provided."
   ]
  },
  {
   "cell_type": "markdown",
   "metadata": {},
   "source": [
    "** Decision Tree Classifier (DecisionTreeClassifier) **  \n",
    "\n",
    "| Training Set Size | Training Time | Prediction Time (test) | F<sub>1</sub> Score (train) | F<sub>1</sub> Score (test) |\n",
    "| :---------------: | :---------------------: | :--------------------: | :--------------: | :-------------: |\n",
    "| 100               |   0.0013 seconds        |   0.0006 seconds       |   1.0000         |   0.6942        |\n",
    "| 200               |   0.0025 seconds        |   0.0007 seconds       |   1.0000         |   0.7132        |\n",
    "| 300               |   0.0040 seconds        |   0.0003 seconds       |   1.0000         |   0.7167        |\n",
    "\n",
    "** Support Vector Machine Classifier (SVC) **  \n",
    "\n",
    "| Training Set Size | Training Time | Prediction Time (test) | F<sub>1</sub> Score (train) | F<sub>1</sub> Score (test) |\n",
    "| :---------------: | :---------------------: | :--------------------: | :--------------: | :-------------: |\n",
    "| 100               |   0.0024 seconds        |   0.0016 seconds       |   0.8591         |   0.7838        |\n",
    "| 200               |   0.0070 seconds        |   0.0030 seconds       |   0.8693         |   0.7755        |\n",
    "| 300               |   0.0151 seconds        |   0.0035 seconds       |   0.8692         |   0.7586        |\n",
    "\n",
    "** Ensamble Methods: Random Forest (RandomForestClassifier) **  \n",
    "\n",
    "| Training Set Size | Training Time | Prediction Time (test) | F<sub>1</sub> Score (train) | F<sub>1</sub> Score (test) |\n",
    "| :---------------: | :---------------------: | :--------------------: | :--------------: | :-------------: |\n",
    "| 100               |   0.0685 seconds        |   0.0103 seconds       |   0.9764         |   0.7031        |\n",
    "| 200               |   0.0893 seconds        |   0.0104 seconds       |   0.9925         |   0.6829        |\n",
    "| 300               |   0.0750 seconds        |   0.0122 seconds       |   0.9903         |   0.7852        |"
   ]
  },
  {
   "cell_type": "markdown",
   "metadata": {},
   "source": [
    "## Choosing the Best Model\n",
    "In this final section, you will choose from the three supervised learning models the *best* model to use on the student data. You will then perform a grid search optimization for the model over the entire training set (`X_train` and `y_train`) by tuning at least one parameter to improve upon the untuned model's F<sub>1</sub> score. "
   ]
  },
  {
   "cell_type": "markdown",
   "metadata": {},
   "source": [
    "### Question 3 - Choosing the Best Model\n",
    "*Based on the experiments you performed earlier, in one to two paragraphs, explain to the board of supervisors what single model you chose as the best model. Which model is generally the most appropriate based on the available data, limited resources, cost, and performance?*"
   ]
  },
  {
   "cell_type": "markdown",
   "metadata": {},
   "source": [
    "**Answer: **  From the Model Performance Matrix, it would appear that the **Ensamble Methods: Random Forest (RandomForestClassifier)** is the best model based on its final F<sub>1</sub> test scores of **0.7852**; however, we know that this learning model is based on the **Decision Tree Classifier**, which ran ~ 18X faster in training and more than 40X faster predicting the test set.  Even though the F<sub>1</sub> test score for the **Decision Tree Classifier** seems low, we can see by the F<sub>1</sub> training score, that it is overfitting to the training data.  This overfitting can be tuned out when we optimize the learning model in the next step.\n",
    "\n",
    "Since we know we can achieve at least **0.7852** F<sub>1</sub> test score using **Random Forst**, which is based on the **Decision Tree Classifier**, against the same training and testing datasets, we should be able to tune the **Decision Tree Classifier** to achieve the same **0.7852** or even better F<sub>1</sub> test score results.  Using **Occam's Razor Principle** (simpler is better), I assert that **Decision Tree classifier** is the best model out of the three selected model based on the available data, limited resources, cost and performance.\n"
   ]
  },
  {
   "cell_type": "markdown",
   "metadata": {},
   "source": [
    "### Question 4 - Model in Layman's Terms\n",
    "*In one to two paragraphs, explain to the board of directors in layman's terms how the final model chosen is supposed to work. Be sure that you are describing the major qualities of the model, such as how the model is trained and how the model makes a prediction. Avoid using advanced mathematical or technical jargon, such as describing equations or discussing the algorithm implementation.*"
   ]
  },
  {
   "cell_type": "markdown",
   "metadata": {},
   "source": [
    "**Answer: **\n",
    "\n",
    "Hello and thank you for allowing me to present the final model for the **Student Intervention** project.  This model is based on the **Decision Tree Classifier**, a learning model that generates *Decision Trees*, which uses a series of questions and intermidiate answers to obtain a final desired **prediction (passed|failed)**.  Below shows a prepresentation of what one of these questions and answer graphs or **trees** looks like when rendered:\n",
    "\n",
    "<img src=\"https://upload.wikimedia.org/wikipedia/commons/f/f3/CART_tree_titanic_survivors.png\" title=\"A Decision Tree showing survival of passengers on the Titanic, CC BY-SA 3.0 by Stephen Milborrow\">\n",
    "\n",
    "The diagam above shows an example *Decision Tree*, which asks a series of questions to predict the survival rate of passengers on the Titanic.  In this particular case, the question **is sex male?** is at the root of the *Decision Tree* and where all queries for predictions starts.  The first major group separation starts at the root of the tree.  And as can be seen in the diagram, your rate of survival is poor if you happen to be male and over 9.5 years old in this model.\n",
    "\n",
    "**Model Training and Prediction Behavior:** In general, we will first split the student dataset into two: a training dataset and a testing dataset.  The training dataset will be given to the model to build the *Decision Tree* for our student intervention project, and the testing dataset will be use to score the accuracy of the generated *Decision Tree's* predictions.  Since the training dataset has historical data of prior students, the *Decision Tree Classifier* can search the dataset for patterns that led those students to either pass or fail their graduation.  When learning from the training set, the *Decision Tree Classifier* will use the randomness (noise) in the dataset to help it sort and group similar students together and separate them from dissimilar students. Each time it generates a new candidate group by asking a question in the dataset, the *Decision Tree Classifier* will evaluate the new candidate group on its effectiveness in getting closer to resolving whether its group of students will either pass or fail graduation.  If the grouping is effective, the *Decision Tree Classifier* will split the dataset into the subgroups and create a branching tree structure.  In general, the *Decision Tree Classifier* will prefer to generate groupings that will lead to correct pass|fail separations, follow by the large groupings, so as to determine a student's pass|fail prediction using the fewest steps.\n",
    "\n",
    "Once the *Decision Tree Classifier* has resolved all grouping and generated a complete *Decision Tree*, predictions against new students can simply be obtained by applying the *Decision Tree* to the new students' information resulting in their pass or fail graduation predictions.  As can be seen, this is a simple model in both representation and execution while using our existing data, limited resources and budgets wisely.  We believe this new graduation prediction model will help the school district bring their graduation success rate up by identifying students that needs intervention early before graduation."
   ]
  },
  {
   "cell_type": "markdown",
   "metadata": {},
   "source": [
    "### Implementation: Model Tuning\n",
    "Fine tune the chosen model. Use grid search (`GridSearchCV`) with at least one important parameter tuned with at least 3 different values. You will need to use the entire training set for this. In the code cell below, you will need to implement the following:\n",
    "- Import [`sklearn.grid_search.gridSearchCV`](http://scikit-learn.org/stable/modules/generated/sklearn.grid_search.GridSearchCV.html) and [`sklearn.metrics.make_scorer`](http://scikit-learn.org/stable/modules/generated/sklearn.metrics.make_scorer.html).\n",
    "- Create a dictionary of parameters you wish to tune for the chosen model.\n",
    " - Example: `parameters = {'parameter' : [list of values]}`.\n",
    "- Initialize the classifier you've chosen and store it in `clf`.\n",
    "- Create the F<sub>1</sub> scoring function using `make_scorer` and store it in `f1_scorer`.\n",
    " - Set the `pos_label` parameter to the correct value!\n",
    "- Perform grid search on the classifier `clf` using `f1_scorer` as the scoring method, and store it in `grid_obj`.\n",
    "- Fit the grid search object to the training data (`X_train`, `y_train`), and store it in `grid_obj`."
   ]
  },
  {
   "cell_type": "code",
   "execution_count": 53,
   "metadata": {
    "collapsed": false
   },
   "outputs": [
    {
     "name": "stdout",
     "output_type": "stream",
     "text": [
      "Made predictions in 0.0003 seconds.\n",
      "Tuned model has a training F1 score of 0.8136.\n",
      "Made predictions in 0.0003 seconds.\n",
      "Tuned model has a testing F1 score of 0.8029.\n",
      "Confusion matrix for Decision Tree:\n",
      "[[13 23]\n",
      " [ 4 55]]\n",
      " Note that the scikit-learn module uses the following transposed form instead:\n",
      " [[ TP FN ] \n",
      "  [ FP TN ]]\n"
     ]
    }
   ],
   "source": [
    "# TODO: Import 'GridSearchCV' and 'make_scorer'\n",
    "from sklearn.grid_search import GridSearchCV\n",
    "from sklearn.metrics import make_scorer\n",
    "\n",
    "# TODO: Create the parameters list you wish to tune\n",
    "parameters = {'criterion':('gini','entropy'), 'max_depth':[1], 'min_samples_split':[1,2,4,8,16,32,64,128], 'random_state':[0,1,3,5,7,11]}\n",
    "\n",
    "# TODO: Initialize the classifier\n",
    "clf = DecisionTreeClassifier()\n",
    "\n",
    "# TODO: Make an f1 scoring function using 'make_scorer' \n",
    "f1_scorer = make_scorer(f1_score, pos_label='yes')\n",
    "\n",
    "# TODO: Perform grid search on the classifier using the f1_scorer as the scoring method\n",
    "grid_obj = GridSearchCV(clf, parameters, f1_scorer)\n",
    "\n",
    "# TODO: Fit the grid search object to the training data and find the optimal parameters\n",
    "grid_obj = grid_obj.fit(X_train, y_train)\n",
    "\n",
    "# Get the estimator\n",
    "clf = grid_obj.best_estimator_\n",
    "\n",
    "# Report the final F1 score for training and testing after parameter tuning\n",
    "print \"Tuned model has a training F1 score of {:.4f}.\".format(predict_labels(clf, X_train, y_train))\n",
    "print \"Tuned model has a testing F1 score of {:.4f}.\".format(predict_labels(clf, X_test, y_test))\n",
    "\n",
    "# Extra credit :)\n",
    "from sklearn.metrics import confusion_matrix\n",
    "print \"Confusion matrix for Decision Tree:\\n\",confusion_matrix(y_test, clf.predict(X_test))\n",
    "print \" Note that the scikit-learn module uses the following transposed form instead:\"\n",
    "print \" [[ TP FN ] \"\n",
    "print \"  [ FP TN ]]\"\n"
   ]
  },
  {
   "cell_type": "markdown",
   "metadata": {},
   "source": [
    "### Question 5 - Final F<sub>1</sub> Score\n",
    "*What is the final model's F<sub>1</sub> score for training and testing? How does that score compare to the untuned model?*"
   ]
  },
  {
   "cell_type": "markdown",
   "metadata": {},
   "source": [
    "**Answer: **\n",
    "\n",
    "The final F<sub>1</sub> test score for the tuned **Decision Tree Classifier** is **0.8029**.  This means we were able to achieve better performance than the **Ensamble Methods: Random Forest Classifier** by **0.0177!**, while at the same time maintaining our prediction execution time at 0.0003 seconds per execution.  Overall, the major tuning parameter that made the difference was *max_depth*.  This tuning parameter prevents the **Decision Tree Classifier** from overfitting to the training dataset to increase bias to the training data and thus allow for lower variance with the testing data, and a better fit in general for the student population.\n",
    "\n",
    "** Decision Tree Classifier (DecisionTreeClassifier):**  \n",
    "\n",
    "| Model | Prediction Time (train) | Prediction Time (test) | F<sub>1</sub> Score (train) | F<sub>1</sub> Score (test) |\n",
    "| :---------------: | :--------------------: | :--------------: | :-------------: |\n",
    "| Untuned           |   0.0004 seconds        |   0.0003 seconds       |   1.0000         |   0.7167        |\n",
    "| Tuned             |   0.0003 seconds        |   0.0003 seconds       |   0.8136         |   0.8029        |\n",
    "\n",
    "The result from tuning the *max_depth* parameter reduced the overfitting to the training data from 1.000 to 0.8136 based on the F<sub>1</sub> training score, while bringing up the F<sub>1</sub> testing score from 0.7167 to 0.8029, meeting our objective of going above the **Random Forest Classifier** F<sub>1</sub> testing score of 0.7852.\n",
    "\n",
    "In addition, we ran the tuned **Decision Tree Classifier** model through the *Confusion Matrix* to determine where the error was in the model.\n",
    "\n",
    "** Confusion Matrix:**\n",
    "\n",
    "| Scikit Learn Confusion Matrix Format |  | DecisionTreeClassifier Confusion Matrix |\n",
    "| :----------: |  | :----------: |\n",
    "|  ``TP   FN`` |  |  ``13   23`` |\n",
    "|  ``FP   TN`` |  |  `` 4   55`` |\n",
    "\n",
    "\n",
    "This means that we correctly predicted 68 passed|failed (13 *true positive* and 55 *true negatives*) out of the 95 students in the test dataset .  We have 4 *false positives* (students that failed graduation, but were predicted to pass) and 23 *false negatives* (students that successfully graduated, but were predicted to fail).  For our purpose, I believe that our bias to having more false negatives than false positives are acceptable because we would rather be more proactive in extending intervention to our students showing any signs of not being able to pass their graduations."
   ]
  },
  {
   "cell_type": "markdown",
   "metadata": {},
   "source": [
    "> **Note**: Once you have completed all of the code implementations and successfully answered each question above, you may finalize your work by exporting the iPython Notebook as an HTML document. You can do this by using the menu above and navigating to  \n",
    "**File -> Download as -> HTML (.html)**. Include the finished document along with this notebook as your submission."
   ]
  }
 ],
 "metadata": {
  "anaconda-cloud": {},
  "kernelspec": {
   "display_name": "Python [Root]",
   "language": "python",
   "name": "Python [Root]"
  },
  "language_info": {
   "codemirror_mode": {
    "name": "ipython",
    "version": 2
   },
   "file_extension": ".py",
   "mimetype": "text/x-python",
   "name": "python",
   "nbconvert_exporter": "python",
   "pygments_lexer": "ipython2",
   "version": "2.7.12"
  }
 },
 "nbformat": 4,
 "nbformat_minor": 0
}
